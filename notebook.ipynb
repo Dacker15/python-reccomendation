{
 "cells": [
  {
   "cell_type": "code",
   "execution_count": 1,
   "metadata": {},
   "outputs": [],
   "source": [
    "import os\n",
    "\n",
    "import pandas as pd\n",
    "\n",
    "movie_dataset_path = os.path.join(os.getcwd(), 'movie-dataset', 'movies.csv')\n",
    "rating_dataset_path = os.path.join(os.getcwd(), 'movie-dataset', 'ratings.csv')\n",
    "\n",
    "movie_dataset = pd.read_csv(movie_dataset_path, sep='::', engine='python')\n",
    "rating_dataset = pd.read_csv(rating_dataset_path, sep='::', engine='python')\n",
    "\n",
    "movie_dataset = movie_dataset.dropna()\n",
    "rating_dataset = rating_dataset.dropna()"
   ]
  },
  {
   "cell_type": "code",
   "execution_count": 2,
   "metadata": {},
   "outputs": [],
   "source": [
    "from surprise import Dataset, Reader\n",
    "\n",
    "elaborated_data = Dataset.load_from_df(rating_dataset[['userId', 'movieId', 'rating']], Reader(rating_scale=(0.5, 5.0)))"
   ]
  },
  {
   "cell_type": "code",
   "execution_count": 3,
   "metadata": {},
   "outputs": [],
   "source": [
    "import numpy as np\n",
    "from surprise import AlgoBase, accuracy\n",
    "from surprise.model_selection import KFold, train_test_split\n",
    "\n",
    "\n",
    "def test_algorithm(algorithm: AlgoBase):\n",
    "    train, test = train_test_split(elaborated_data, test_size=0.2)\n",
    "    algorithm.fit(train)\n",
    "    split_predictions = algorithm.test(test)\n",
    "    split_predictions_measure = dict()\n",
    "    split_predictions_measure['rmse'] = accuracy.rmse(split_predictions, verbose=False)\n",
    "    split_predictions_measure['mae'] = accuracy.mae(split_predictions, verbose=False)\n",
    "    split_predictions_measure['mse'] = accuracy.mse(split_predictions, verbose=False)\n",
    "    \n",
    "    kf = KFold(n_splits=5)\n",
    "    cross_predictions_measure = dict()\n",
    "    cross_predictions_measure['rmse'] = np.array([])\n",
    "    cross_predictions_measure['mae'] = np.array([])\n",
    "    cross_predictions_measure['mse'] = np.array([])\n",
    "    for k_train, k_test in kf.split(elaborated_data):\n",
    "        algorithm.fit(k_train)\n",
    "        k_predictions = algorithm.test(k_test)\n",
    "        cross_predictions_measure['rmse'] = np.append(cross_predictions_measure['rmse'], accuracy.rmse(k_predictions, verbose=False))\n",
    "        cross_predictions_measure['mae'] = np.append(cross_predictions_measure['mae'], accuracy.mae(k_predictions, verbose=False))\n",
    "        cross_predictions_measure['mse'] = np.append(cross_predictions_measure['mse'], accuracy.mse(k_predictions, verbose=False))\n",
    "    \n",
    "    return (split_predictions_measure, cross_predictions_measure)"
   ]
  },
  {
   "cell_type": "code",
   "execution_count": 4,
   "metadata": {},
   "outputs": [
    {
     "data": {
      "text/plain": [
       "({'rmse': 0.8718380184130274,\n",
       "  'mae': 0.6840324472869662,\n",
       "  'mse': 0.7601015303503544},\n",
       " {'rmse': array([0.87355617, 0.8761734 , 0.87538284, 0.87161462, 0.87376793]),\n",
       "  'mae': array([0.68539516, 0.68725865, 0.68721544, 0.68498816, 0.68702616]),\n",
       "  'mse': array([0.76310038, 0.76767982, 0.76629512, 0.75971205, 0.76347039])})"
      ]
     },
     "execution_count": 4,
     "metadata": {},
     "output_type": "execute_result"
    }
   ],
   "source": [
    "from surprise import SVD\n",
    "\n",
    "test_algorithm(SVD())"
   ]
  }
 ],
 "metadata": {
  "kernelspec": {
   "display_name": "Python 3.9.6 ('python-reccomendation-XMPX0F2E')",
   "language": "python",
   "name": "python3"
  },
  "language_info": {
   "codemirror_mode": {
    "name": "ipython",
    "version": 3
   },
   "file_extension": ".py",
   "mimetype": "text/x-python",
   "name": "python",
   "nbconvert_exporter": "python",
   "pygments_lexer": "ipython3",
   "version": "3.9.6"
  },
  "orig_nbformat": 4,
  "vscode": {
   "interpreter": {
    "hash": "68d2b6b8a1c82637b047727f5e628000fa094bf771643027fb9a5034d8507928"
   }
  }
 },
 "nbformat": 4,
 "nbformat_minor": 2
}
