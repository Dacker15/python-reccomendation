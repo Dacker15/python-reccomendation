{
 "cells": [
  {
   "cell_type": "code",
   "execution_count": 1,
   "metadata": {},
   "outputs": [],
   "source": [
    "import os\n",
    "\n",
    "import pandas as pd\n",
    "\n",
    "movie_dataset_path = os.path.join(os.getcwd(), 'movie-dataset', 'movies.csv')\n",
    "rating_dataset_path = os.path.join(os.getcwd(), 'movie-dataset', 'ratings.csv')\n",
    "\n",
    "movie_dataset = pd.read_csv(movie_dataset_path, sep='::', engine='python')\n",
    "rating_dataset = pd.read_csv(rating_dataset_path, sep='::', engine='python')\n",
    "\n",
    "movie_dataset = movie_dataset.dropna()\n",
    "rating_dataset = rating_dataset.dropna()"
   ]
  }
 ],
 "metadata": {
  "kernelspec": {
   "display_name": "Python 3.9.6 ('python-reccomendation-XMPX0F2E')",
   "language": "python",
   "name": "python3"
  },
  "language_info": {
   "codemirror_mode": {
    "name": "ipython",
    "version": 3
   },
   "file_extension": ".py",
   "mimetype": "text/x-python",
   "name": "python",
   "nbconvert_exporter": "python",
   "pygments_lexer": "ipython3",
   "version": "3.9.6"
  },
  "orig_nbformat": 4,
  "vscode": {
   "interpreter": {
    "hash": "68d2b6b8a1c82637b047727f5e628000fa094bf771643027fb9a5034d8507928"
   }
  }
 },
 "nbformat": 4,
 "nbformat_minor": 2
}
